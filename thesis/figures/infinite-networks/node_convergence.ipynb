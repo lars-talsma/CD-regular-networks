{
 "cells": [
  {
   "cell_type": "code",
   "execution_count": 1,
   "metadata": {},
   "outputs": [],
   "source": [
    "import numpy as np\n",
    "\n",
    "prob_succ_gen = 1\n",
    "prob_succ_swap = 1\n",
    "prob_swap = 0.2\n",
    "time_cutoff = 7\n",
    "qubits_per_node = 2*time_cutoff # Represents an infinite memory\n",
    "\n",
    "time = 1000000\n",
    "max_swap_dist = 4\n",
    "number_of_nodes = 2*(max_swap_dist + 1) + 1\n",
    "test = False\n",
    "\n",
    "virtual_node_degree = np.load('FOLDER_LOCATION/Infinite networks/Convergence/Node/virtual_node_degree.npy')\n",
    "virtual_neighbourhood_size = np.load('FOLDER_LOCATION/Infinite networks/Convergence/Node/virtual_neighbourhood_size.npy')"
   ]
  },
  {
   "cell_type": "code",
   "execution_count": 3,
   "metadata": {},
   "outputs": [
    {
     "data": {
      "image/png": "[encoded data removed]",
      "text/plain": [
       "<Figure size 401.811x195.325 with 2 Axes>"
      ]
     },
     "metadata": {},
     "output_type": "display_data"
    }
   ],
   "source": [
    "import matplotlib.pyplot as plt\n",
    "from matplotlib.ticker import (MultipleLocator, FormatStrFormatter, AutoMinorLocator)\n",
    "from itertools import product\n",
    "\n",
    "plt.style.use('FOLDER_LOCATION/figure.mplstyle')\n",
    "color_text = (0, 0, 0, 0.8)\n",
    "\n",
    "\n",
    "cart_prod_node_indices = product(np.arange(0, number_of_nodes), \n",
    "                                 np.arange(0, 1))\n",
    "\n",
    "virtual_node_degree_linearized = np.empty((number_of_nodes, time))\n",
    "virtual_neighbourhood_size_linearized = np.empty((number_of_nodes, time))\n",
    "\n",
    "for i, j in cart_prod_node_indices:\n",
    "    virtual_node_degree_linearized[i, :] = virtual_node_degree[i, j, :]\n",
    "    virtual_neighbourhood_size_linearized[i, :] = virtual_neighbourhood_size[i, j, :]\n",
    "\n",
    "colors = plt.cm.viridis(np.linspace(0, 0.9, number_of_nodes))\n",
    "\n",
    "mm = 1/25.4\n",
    "fig, ax = plt.subplots(2, 1, constrained_layout=True, figsize=[157.5*mm*0.9, 157.5*mm/16*7])\n",
    "\n",
    "ax[0].plot([5.63, 5.63], [0.15,0.21], color='lightgray', linewidth=0.8, zorder=-10)\n",
    "ax[0].text(5.4, 0.215, r'$i=$', ha='right', color=color_text, fontsize=10)\n",
    "ax[0].text(5.85, 0.215, r'$1,$', ha='right', color=colors[0], fontsize=10)\n",
    "ax[0].text(6.27, 0.215, r'$2,$', ha='right', color=colors[1], fontsize=10)\n",
    "ax[0].text(7.07, 0.215, r'$\\dots,$', ha='right', color=color_text, fontsize=10)\n",
    "ax[0].text(7.6, 0.215, r'$11$', ha='right', color=colors[10], fontsize=10)\n",
    "\n",
    "\n",
    "ax[0].hist(np.transpose(virtual_node_degree_linearized[:, 2*time_cutoff:]), bins=np.arange(np.amin(virtual_node_degree_linearized)-1,np.amax(virtual_node_degree_linearized)+1)+0.5, histtype='bar', color=colors, density=True, label=np.arange(1,number_of_nodes**2+1))\n",
    "\n",
    "ax[0].set_ylabel(r'$\\Pr [k_i(t)=k]$', rotation=0, y=0.88, labelpad = 17, ha='right')\n",
    "ax[0].set_xlabel(r'$k$')\n",
    "ax[0].set_xlim(0-1/2, 12+1/2)\n",
    "ax[0].set_ylim(0, 0.21)\n",
    "ax[0].spines['left'].set_visible(False)\n",
    "\n",
    "ax[0].tick_params(axis='both', which='both', direction='out', size = 0)\n",
    "ax[0].set_xticks([0, 2, 4, 6, 8, 10, 12])\n",
    "ax[0].set_yticks([0, 0.1, 0.2])\n",
    "ax[0].set_yticks([0.04, 0.15], minor=True)\n",
    "ax[0].tick_params(axis='x', direction='out', which='both')\n",
    "\n",
    "ax[0].grid(axis='y', which='both', linewidth=0.6)\n",
    "ax[0].set_axisbelow(True)\n",
    "\n",
    "\n",
    "ax[1].grid(axis='y', which='both', linewidth=0.6)\n",
    "ax[1].set_axisbelow(True)\n",
    "\n",
    "ax[1].hist(np.transpose(virtual_neighbourhood_size_linearized[:, 2*time_cutoff:]), bins=np.arange(np.amin(virtual_neighbourhood_size_linearized)-1,np.amax(virtual_neighbourhood_size_linearized)+1)+0.5, histtype='bar', color=colors, density=True)\n",
    "ax[1].set_ylabel(r'$\\Pr[v_i(t)=v]$', rotation=0, y=0.89, labelpad = 17, ha='right')\n",
    "ax[1].set_xlabel(r'$v$')\n",
    "ax[1].set_xlim(0-1/2, 8+1/2)\n",
    "ax[1].set_ylim(0, 0.41)\n",
    "\n",
    "ax[1].spines['left'].set_visible(False)\n",
    "\n",
    "ax[1].tick_params(axis='both', which='both', direction='out', size = 0)\n",
    "ax[1].set_xticks([0, 2, 4, 6, 8])\n",
    "ax[1].set_yticks([0, 0.2, 0.4])\n",
    "ax[1].set_yticks([0.1, 0.3], minor=True)\n",
    "\n",
    "fig.set_facecolor('white')\n",
    "# fig.savefig('FOLDER_LOCATION/infinite networks/node_convergence.pdf', bbox_inches = 'tight', pad_inches=0*mm)"
   ]
  }
 ],
 "metadata": {
  "kernelspec": {
   "display_name": "Python 3",
   "language": "python",
   "name": "python3"
  },
  "language_info": {
   "codemirror_mode": {
    "name": "ipython",
    "version": 3
   },
   "file_extension": ".py",
   "mimetype": "text/x-python",
   "name": "python",
   "nbconvert_exporter": "python",
   "pygments_lexer": "ipython3",
   "version": "3.8.5"
  }
 },
 "nbformat": 4,
 "nbformat_minor": 4
}
