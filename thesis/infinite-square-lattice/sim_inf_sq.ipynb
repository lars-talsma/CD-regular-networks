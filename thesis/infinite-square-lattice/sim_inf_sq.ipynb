{
 "cells": [
  {
   "cell_type": "code",
   "execution_count": 2,
   "metadata": {},
   "outputs": [],
   "source": [
    "import skeleton\n",
    "import numpy as np"
   ]
  },
  {
   "cell_type": "markdown",
   "metadata": {},
   "source": [
    "### sweep_prob_swap_max_link_dist"
   ]
  },
  {
   "cell_type": "code",
   "execution_count": 1,
   "metadata": {},
   "outputs": [
    {
     "name": "stdout",
     "output_type": "stream",
     "text": [
      "36435.2575807\n"
     ]
    }
   ],
   "source": [
    "import numpy as np\n",
    "import multiprocessing\n",
    "import sweep_prob_swap_max_link_dist\n",
    "from itertools import product\n",
    "from timeit import default_timer as timer\n",
    "\n",
    "start = timer()\n",
    "\n",
    "if __name__ == '__main__':\n",
    "    # Define the parameters to test\n",
    "    prob_swap_sweep_size = 100+1\n",
    "    prob_swap_range = np.arange(0, prob_swap_sweep_size)/(prob_swap_sweep_size-1)\n",
    "    max_link_dist_range = [0, 1, 2, 4, 7]\n",
    "\n",
    "    # Take the cartesian product as the parameters because pool.map() takes only one iterable\n",
    "    params = product(max_link_dist_range, prob_swap_range)\n",
    "    pool = multiprocessing.Pool()\n",
    "    results = pool.map(sweep_prob_swap_max_link_dist.run_simulation, params)\n",
    "\n",
    "    \n",
    "end = timer()\n",
    "print(end - start) # Time in seconds\n",
    "\n",
    "# np.save('FOLDER_LOCATION/Infinite networks/Infinite square/sweep_prob_swap_max_link_dist/results', results)"
   ]
  },
  {
   "cell_type": "markdown",
   "metadata": {},
   "source": [
    "### sweep_prob_swap_prob_succ_swap"
   ]
  },
  {
   "cell_type": "code",
   "execution_count": 1,
   "metadata": {},
   "outputs": [
    {
     "name": "stdout",
     "output_type": "stream",
     "text": [
      "20264.4632663\n"
     ]
    }
   ],
   "source": [
    "import numpy as np\n",
    "import multiprocessing\n",
    "import sweep_prob_swap_prob_succ_swap\n",
    "from itertools import product\n",
    "from timeit import default_timer as timer\n",
    "\n",
    "start = timer()\n",
    "\n",
    "if __name__ == '__main__':\n",
    "    # Define the parameters to test\n",
    "    prob_swap_sweep_size = 100+1\n",
    "    prob_swap_range = np.arange(0, prob_swap_sweep_size)/(prob_swap_sweep_size-1)\n",
    "    prob_succ_swap_range = [0.5, 0.75, 1]\n",
    "\n",
    "    # Take the cartesian product as the parameters because pool.map() takes only one iterable\n",
    "    params = product(prob_succ_swap_range, prob_swap_range)\n",
    "    pool = multiprocessing.Pool()\n",
    "    results = pool.map(sweep_prob_swap_prob_succ_swap.run_simulation, params)\n",
    "\n",
    "    \n",
    "end = timer()\n",
    "print(end - start) # Time in seconds\n",
    "\n",
    "# np.save('FOLDER_LOCATION/Infinite networks/Infinite square/sweep_prob_swap_prob_succ_swap/results_check', results)    "
   ]
  },
  {
   "cell_type": "markdown",
   "metadata": {},
   "source": [
    "### sweep_prob_swap_time_cutoff"
   ]
  },
  {
   "cell_type": "code",
   "execution_count": 1,
   "metadata": {},
   "outputs": [
    {
     "name": "stdout",
     "output_type": "stream",
     "text": [
      "69871.7617512\n"
     ]
    }
   ],
   "source": [
    "import numpy as np\n",
    "import multiprocessing\n",
    "import sweep_prob_swap_time_cutoff\n",
    "from itertools import product\n",
    "from timeit import default_timer as timer\n",
    "\n",
    "start = timer()\n",
    "\n",
    "if __name__ == '__main__':\n",
    "    # Define the parameters to test\n",
    "    prob_swap_sweep_size = 100+1\n",
    "    prob_swap_range = np.arange(0, prob_swap_sweep_size)/(prob_swap_sweep_size-1)\n",
    "    time_cutoff_range = [1, 3, 7, 13, 21]\n",
    "\n",
    "    # Take the cartesian product as the parameters because pool.map() takes only one iterable\n",
    "    params = product(time_cutoff_range, prob_swap_range)\n",
    "    pool = multiprocessing.Pool()\n",
    "    results = pool.map(sweep_prob_swap_time_cutoff.run_simulation, params)\n",
    "\n",
    "    \n",
    "end = timer()\n",
    "print(end - start) # Time in seconds\n",
    "\n",
    "# np.save('FOLDER_LOCATION/Infinite networks/Infinite square/sweep_prob_swap_time_cutoff/results', results)"
   ]
  },
  {
   "cell_type": "code",
   "execution_count": null,
   "metadata": {},
   "outputs": [],
   "source": [
    "import numpy as np\n",
    "import multiprocessing\n",
    "import sweep_prob_swap_time_cutoff\n",
    "from itertools import product\n",
    "from timeit import default_timer as timer\n",
    "\n",
    "start = timer()\n",
    "\n",
    "if __name__ == '__main__':\n",
    "    # Define the parameters to test\n",
    "    prob_swap_sweep_size = 100+1\n",
    "    prob_swap_range = np.arange(0, prob_swap_sweep_size)/(prob_swap_sweep_size-1)\n",
    "    time_cutoff_range = [1, 2, 3, 4, 5, 6, 7, 8, 9, 10, 11, 12, 13, 14, 15]\n",
    "\n",
    "    # Take the cartesian product as the parameters because pool.map() takes only one iterable\n",
    "    params = product(time_cutoff_range, prob_swap_range)\n",
    "    pool = multiprocessing.Pool()\n",
    "    results = pool.map(sweep_prob_swap_time_cutoff.run_simulation, params)\n",
    "\n",
    "    \n",
    "end = timer()\n",
    "print(end - start) # Time in seconds\n",
    "\n",
    "# np.save('FOLDER_LOCATION/Infinite networks/Infinite square/sweep_prob_swap_time_cutoff/Extended run probswap/results', results)"
   ]
  },
  {
   "cell_type": "markdown",
   "metadata": {},
   "source": [
    "### sweep_prob_swap_prob_succ_gen"
   ]
  },
  {
   "cell_type": "code",
   "execution_count": 1,
   "metadata": {},
   "outputs": [
    {
     "name": "stdout",
     "output_type": "stream",
     "text": [
      "29188.9890994\n"
     ]
    }
   ],
   "source": [
    "import numpy as np\n",
    "import multiprocessing\n",
    "import sweep_prob_swap_prob_succ_gen\n",
    "from itertools import product\n",
    "from timeit import default_timer as timer\n",
    "\n",
    "start = timer()\n",
    "\n",
    "if __name__ == '__main__':\n",
    "    # Define the parameters to test\n",
    "    prob_swap_sweep_size = 100+1\n",
    "    prob_swap_range = np.arange(0, prob_swap_sweep_size)/((prob_swap_sweep_size-1))\n",
    "    prob_succ_gen_range = [0.25]\n",
    "\n",
    "    # Take the cartesian product as the parameters because pool.map() takes only one iterable\n",
    "    params = product(prob_succ_gen_range, prob_swap_range)\n",
    "    pool = multiprocessing.Pool()\n",
    "    results = pool.map(sweep_prob_swap_prob_succ_gen.run_simulation, params)\n",
    "\n",
    "    \n",
    "end = timer()\n",
    "print(end - start) # Time in seconds\n",
    "\n",
    "# np.save('FOLDER_LOCATION/Infinite networks/Infinite square/sweep_prob_swap_prob_succ_gen/results_full_range_q_p25', results)"
   ]
  }
 ],
 "metadata": {
  "kernelspec": {
   "display_name": "Python 3",
   "language": "python",
   "name": "python3"
  },
  "language_info": {
   "codemirror_mode": {
    "name": "ipython",
    "version": 3
   },
   "file_extension": ".py",
   "mimetype": "text/x-python",
   "name": "python",
   "nbconvert_exporter": "python",
   "pygments_lexer": "ipython3",
   "version": "3.8.5"
  }
 },
 "nbformat": 4,
 "nbformat_minor": 4
}
