{
 "cells": [
  {
   "cell_type": "markdown",
   "metadata": {},
   "source": [
    "# Tutorial\n",
    "This notebook contains a tutorial to run the simulations used to obtain the results in _Continuously Distributing Entanglement in Quantum Networks with Regular Topologies_ (2024). In particular, we explain how to\n",
    "1. Run a simulation for a fixed set of parameters, and\n",
    "2. Run a (multiprocessor) parameter sweep."
   ]
  },
  {
   "cell_type": "markdown",
   "metadata": {},
   "source": [
    "## 1. Run a simulation for a fixed set of parameters\n",
    "Each topology (chain, honeycomb lattice, square lattice, and triangular lattice, either infinite or finite) has a separate `skeleton_<topology>.py` file containing all the functions required to run a simulation for a fixed set of parameters (`<topology>=inf/fin_chain/honeycomb/sq/tri>`; the `skeleton` files can be found under `/simulation`, but also under `manuscript/data_gen` for use in the parameter sweeps, see below for more information). To run a single simulation, we initialize all the simulation parameters, call the `simulation_<topology>` in the `skeleton_<topology>.py` to retrieve the performance metrics (the virtual neigbhorhood size and virtual node degree) as well as some other interesting information (see the `skeleton_<topology>` files for more information). For example, we can run a finite chain network simulation:"
   ]
  },
  {
   "cell_type": "code",
   "execution_count": 7,
   "metadata": {},
   "outputs": [],
   "source": [
    "from data_generation import skeleton_fin_chain\n",
    "\n",
    "test = False\n",
    "\n",
    "prob_succ_gen = 1\n",
    "prob_succ_swap = 1\n",
    "\n",
    "max_swap_dist = 2\n",
    "number_of_nodes = 2*(max_swap_dist+1)+1\n",
    "\n",
    "time_cutoff = 11\n",
    "qubits_per_node = 2*time_cutoff  # Represents an infinite memory for an infinite chain\n",
    "sim_time = 3*time_cutoff\n",
    "\n",
    "prob_swap = 0.2 \n",
    "\n",
    "(virtual_link_age_array, virtual_node_degree, virtual_neighbourhood_size, swap_count, link_fail_count) = (\n",
    "        skeleton_fin_chain.simulation_finite_chain(prob_succ_gen, prob_succ_swap, prob_swap, time_cutoff,  \n",
    "                                                    qubits_per_node, sim_time, max_swap_dist, number_of_nodes, test))"
   ]
  },
  {
   "cell_type": "markdown",
   "metadata": {},
   "source": [
    "## 2. Run a (multiprocessor) parameter sweep.\n",
    "\n",
    "We investigate the performance metrics as a function of the swap attempt probability. Additionally, we investigate the dependence of the performance metrics to various network parameters in infinite networks. To reduce the time needed for computations, we can run simulations of fixed parameters on different cores using the `multiprocessing` package in Python and combine all the results for analysis.\n",
    "\n",
    "For reproducibility and as a reference to the network parameters used in the simulations, we have added all the data generation scripts used in this manuscript under `/data_generation`. A sweep over one network parameter uses two files, a `data_gen_<topology>_<parameter>.py` file that initializes the network parameters (including the parameter values we are sweeping over) and that retrieves a number of samples using the `data_gen_<topology>_<parameter>_run_sim.py` files. The `data_gen_<topology>_<parameter>.py` immediately post-processes the data (to avoid save files of multiple GBs) and saves, among others, the steady-state values and standard errors of the performance metrics in `/data` named as `data_<topology>_<parameter>`."
   ]
  }
 ],
 "metadata": {
  "kernelspec": {
   "display_name": "Python 3",
   "language": "python",
   "name": "python3"
  },
  "language_info": {
   "codemirror_mode": {
    "name": "ipython",
    "version": 3
   },
   "file_extension": ".py",
   "mimetype": "text/x-python",
   "name": "python",
   "nbconvert_exporter": "python",
   "pygments_lexer": "ipython3",
   "version": "3.8.5"
  }
 },
 "nbformat": 4,
 "nbformat_minor": 4
}
