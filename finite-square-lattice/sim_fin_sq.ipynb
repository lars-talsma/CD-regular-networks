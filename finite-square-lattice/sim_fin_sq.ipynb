{
 "cells": [
  {
   "cell_type": "code",
   "execution_count": 37,
   "metadata": {},
   "outputs": [],
   "source": [
    "import skeleton\n",
    "import numpy as np"
   ]
  },
  {
   "cell_type": "code",
   "execution_count": null,
   "metadata": {},
   "outputs": [],
   "source": [
    "import multiprocessing\n",
    "import sweep_prob_swap_prob_succ_swap\n",
    "from itertools import product\n",
    "from timeit import default_timer as timer\n",
    "\n",
    "start = timer()\n",
    "\n",
    "if __name__ == '__main__':\n",
    "    # Define the parameters to test\n",
    "    prob_swap_sweep_size = 100+1\n",
    "    prob_swap_range = np.arange(0, prob_swap_sweep_size)/(prob_swap_sweep_size-1)\n",
    "    prob_succ_swap_range = [1]\n",
    "\n",
    "    # Take the cartesian product as the parameters because pool.map() takes only one iterable\n",
    "    params = product(prob_succ_swap_range, prob_swap_range)\n",
    "    pool = multiprocessing.Pool()\n",
    "    results = pool.map(sweep_prob_swap_prob_succ_swap.run_simulation, params)\n",
    "\n",
    "    \n",
    "end = timer()\n",
    "print(end - start) # Time in seconds\n",
    "\n",
    "# np.save('FOLDER_LOCATION/Finite networks/Finite square/sweep_prob_swap_prob_succ_swap/results', results)    "
   ]
  }
 ],
 "metadata": {
  "kernelspec": {
   "display_name": "Python 3",
   "language": "python",
   "name": "python3"
  },
  "language_info": {
   "codemirror_mode": {
    "name": "ipython",
    "version": 3
   },
   "file_extension": ".py",
   "mimetype": "text/x-python",
   "name": "python",
   "nbconvert_exporter": "python",
   "pygments_lexer": "ipython3",
   "version": "3.8.5"
  }
 },
 "nbformat": 4,
 "nbformat_minor": 4
}
