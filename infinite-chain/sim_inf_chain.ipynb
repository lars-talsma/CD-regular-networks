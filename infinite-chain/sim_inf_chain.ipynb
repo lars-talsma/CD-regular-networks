{
 "cells": [
  {
   "cell_type": "code",
   "execution_count": null,
   "metadata": {},
   "outputs": [],
   "source": [
    "import skeleton\n",
    "import numpy as np"
   ]
  },
  {
   "cell_type": "markdown",
   "metadata": {},
   "source": [
    "### Time convergence"
   ]
  },
  {
   "cell_type": "code",
   "execution_count": 1,
   "metadata": {},
   "outputs": [],
   "source": [
    "prob_succ_gen = 1\n",
    "prob_succ_swap = 1\n",
    "prob_swap = 0.2\n",
    "time_cutoff = 7\n",
    "qubits_per_node = 2*time_cutoff # Represents an infinite memory\n",
    "\n",
    "time = 101\n",
    "max_swap_dist = 4\n",
    "number_of_nodes = 5000\n",
    "\n",
    "test = False"
   ]
  },
  {
   "cell_type": "code",
   "execution_count": 2,
   "metadata": {},
   "outputs": [
    {
     "name": "stdout",
     "output_type": "stream",
     "text": [
      "1101.0646985\n"
     ]
    }
   ],
   "source": [
    "from timeit import default_timer as timer\n",
    "\n",
    "start = timer()\n",
    "virtual_link_adj_array, virtual_node_degree, virtual_neighbourhood_size, swap_count, swap_fail_count = skeleton.simulation_infinite_chain(prob_succ_gen, prob_succ_swap, prob_swap, time_cutoff, qubits_per_node, time, max_swap_dist, number_of_nodes, test)\n",
    "end = timer()\n",
    "print(end - start) # Time in seconds\n",
    "# np.save('FOLDER_LOCATION/Infinite networks/Convergence/Time/virtual_node_degree', virtual_node_degree)\n",
    "# np.save('FOLDER_LOCATION/Infinite networks/Convergence/Time/virtual_neighbourhood_size', virtual_neighbourhood_size)"
   ]
  },
  {
   "cell_type": "markdown",
   "metadata": {},
   "source": [
    "### Sample convergence"
   ]
  },
  {
   "cell_type": "code",
   "execution_count": 16,
   "metadata": {},
   "outputs": [],
   "source": [
    "prob_succ_gen = 1\n",
    "prob_succ_swap = 1\n",
    "prob_swap = 0.2\n",
    "time_cutoff = 7\n",
    "qubits_per_node = 2*time_cutoff # Represents an infinite memory\n",
    "\n",
    "time = 101\n",
    "max_swap_dist = 4\n",
    "number_of_nodes = 2*(max_swap_dist + 1) + 1\n",
    "\n",
    "test = False"
   ]
  },
  {
   "cell_type": "code",
   "execution_count": 23,
   "metadata": {},
   "outputs": [
    {
     "name": "stdout",
     "output_type": "stream",
     "text": [
      "1651.0212131000008\n"
     ]
    }
   ],
   "source": [
    "from timeit import default_timer as timer\n",
    "N_samples = 5000\n",
    "\n",
    "k_0 = np.empty((time, N_samples))\n",
    "k_5 = np.empty((time, N_samples))\n",
    "V_0 = np.empty((time, N_samples))\n",
    "V_5 = np.empty((time, N_samples))\n",
    "\n",
    "k_mean_0 = np.empty(time)\n",
    "k_mean_5 = np.empty(time)\n",
    "V_mean_0 = np.empty(time)\n",
    "V_mean_5 = np.empty(time)\n",
    "\n",
    "virtual_node_degree_10pct_0 = np.empty(time) \n",
    "virtual_node_degree_25pct_0 = np.empty(time)\n",
    "virtual_node_degree_75pct_0 = np.empty(time) \n",
    "virtual_node_degree_90pct_0 = np.empty(time)\n",
    "\n",
    "virtual_node_degree_10pct_5 = np.empty(time) \n",
    "virtual_node_degree_25pct_5 = np.empty(time)\n",
    "virtual_node_degree_75pct_5 = np.empty(time) \n",
    "virtual_node_degree_90pct_5 = np.empty(time)\n",
    "\n",
    "virtual_neighbourhood_size_10pct_0 = np.empty(time)\n",
    "virtual_neighbourhood_size_25pct_0 = np.empty(time)\n",
    "virtual_neighbourhood_size_75pct_0 = np.empty(time)\n",
    "virtual_neighbourhood_size_90pct_0 = np.empty(time)\n",
    "\n",
    "virtual_neighbourhood_size_10pct_5 = np.empty(time)\n",
    "virtual_neighbourhood_size_25pct_5 = np.empty(time)\n",
    "virtual_neighbourhood_size_75pct_5 = np.empty(time)\n",
    "virtual_neighbourhood_size_90pct_5 = np.empty(time)\n",
    "\n",
    "start = timer()\n",
    "\n",
    "for i in range(N_samples):\n",
    "    virtual_link_adj_array, virtual_node_degree, virtual_neighbourhood_size, swap_count, link_fail_count = skeleton.simulation_infinite_chain(prob_succ_gen, prob_succ_swap, prob_swap, time_cutoff, qubits_per_node, time, max_swap_dist, number_of_nodes, test)\n",
    "    k_0[:, i] = virtual_node_degree[0, 0, :]\n",
    "    k_5[:, i] = virtual_node_degree[5, 0, :]\n",
    "    V_0[:, i] = virtual_neighbourhood_size[0, 0, :]\n",
    "    V_5[:, i] = virtual_neighbourhood_size[5, 0, :]\n",
    "\n",
    "for t in range(time):\n",
    "    k_mean_0[t] = np.mean(k_0[t, :])\n",
    "    k_mean_5[t] = np.mean(k_5[t, :])\n",
    "    V_mean_0[t] = np.mean(V_0[t, :])\n",
    "    V_mean_5[t] = np.mean(V_5[t, :])\n",
    "    \n",
    "    \n",
    "    virtual_node_degree_10pct_0[t] = np.percentile(k_0[t, :], 10, interpolation='nearest') \n",
    "    virtual_node_degree_25pct_0[t] = np.percentile(k_0[t, :], 25, interpolation='nearest')\n",
    "    virtual_node_degree_75pct_0[t] = np.percentile(k_0[t, :], 75, interpolation='nearest') \n",
    "    virtual_node_degree_90pct_0[t] = np.percentile(k_0[t, :], 90, interpolation='nearest')\n",
    "\n",
    "    virtual_node_degree_10pct_5[t] = np.percentile(k_5[t, :], 10, interpolation='nearest') \n",
    "    virtual_node_degree_25pct_5[t] = np.percentile(k_5[t, :], 25, interpolation='nearest')\n",
    "    virtual_node_degree_75pct_5[t] = np.percentile(k_5[t, :], 75, interpolation='nearest') \n",
    "    virtual_node_degree_90pct_5[t] = np.percentile(k_5[t, :], 90, interpolation='nearest')\n",
    "    \n",
    "    virtual_neighbourhood_size_10pct_0[t] = np.percentile(V_0[t, :], 10, interpolation='nearest')\n",
    "    virtual_neighbourhood_size_25pct_0[t] = np.percentile(V_0[t, :], 25, interpolation='nearest')\n",
    "    virtual_neighbourhood_size_75pct_0[t] = np.percentile(V_0[t, :], 75, interpolation='nearest')\n",
    "    virtual_neighbourhood_size_90pct_0[t] = np.percentile(V_0[t, :], 90, interpolation='nearest')\n",
    "\n",
    "    virtual_neighbourhood_size_10pct_5[t] = np.percentile(V_5[t, :], 10, interpolation='nearest')\n",
    "    virtual_neighbourhood_size_25pct_5[t] = np.percentile(V_5[t, :], 25, interpolation='nearest')\n",
    "    virtual_neighbourhood_size_75pct_5[t] = np.percentile(V_5[t, :], 75, interpolation='nearest')\n",
    "    virtual_neighbourhood_size_90pct_5[t] = np.percentile(V_5[t, :], 90, interpolation='nearest')\n",
    "\n",
    "end = timer()\n",
    "print(end - start) # Time in seconds\n",
    "\n",
    "# np.save('FOLDER_LOCATION/Infinite networks/Convergence/Sample/k_mean_0', k_mean_0)\n",
    "# np.save('FOLDER_LOCATION/Infinite networks/Convergence/Sample/k_mean_5', k_mean_5)    \n",
    "# np.save('FOLDER_LOCATION/Infinite networks/Convergence/Sample/V_mean_0', V_mean_0)    \n",
    "# np.save('FOLDER_LOCATION/Infinite networks/Convergence/Sample/V_mean_5', V_mean_5)    \n",
    "\n",
    "# np.save('FOLDER_LOCATION/Infinite networks/Convergence/Sample/virtual_node_degree_10pct_0', virtual_node_degree_10pct_0)\n",
    "# np.save('FOLDER_LOCATION/Infinite networks/Convergence/Sample/virtual_node_degree_25pct_0', virtual_node_degree_25pct_0)    \n",
    "# np.save('FOLDER_LOCATION/Infinite networks/Convergence/Sample/virtual_node_degree_75pct_0', virtual_node_degree_75pct_0)    \n",
    "# np.save('FOLDER_LOCATION/Infinite networks/Convergence/Sample/virtual_node_degree_90pct_0', virtual_node_degree_90pct_0)   \n",
    "\n",
    "# np.save('FOLDER_LOCATION/Infinite networks/Convergence/Sample/virtual_node_degree_10pct_5', virtual_node_degree_10pct_5)\n",
    "# np.save('FOLDER_LOCATION/Infinite networks/Convergence/Sample/virtual_node_degree_25pct_5', virtual_node_degree_25pct_5)    \n",
    "# np.save('FOLDER_LOCATION/Infinite networks/Convergence/Sample/virtual_node_degree_75pct_5', virtual_node_degree_75pct_5)    \n",
    "# np.save('FOLDER_LOCATION/Infinite networks/Convergence/Sample/virtual_node_degree_90pct_5', virtual_node_degree_90pct_5)   \n",
    "\n",
    "# np.save('FOLDER_LOCATION/Infinite networks/Convergence/Sample/virtual_neighbourhood_size_10pct_0', virtual_neighbourhood_size_10pct_0)\n",
    "# np.save('FOLDER_LOCATION/Infinite networks/Convergence/Sample/virtual_neighbourhood_size_25pct_0', virtual_neighbourhood_size_25pct_0)    \n",
    "# np.save('FOLDER_LOCATION/Infinite networks/Convergence/Sample/virtual_neighbourhood_size_75pct_0', virtual_neighbourhood_size_75pct_0)    \n",
    "# np.save('FOLDER_LOCATION/Infinite networks/Convergence/Sample/virtual_neighbourhood_size_90pct_0', virtual_neighbourhood_size_90pct_0)   \n",
    "\n",
    "# np.save('FOLDER_LOCATION/Infinite networks/Convergence/Sample/virtual_neighbourhood_size_10pct_5', virtual_neighbourhood_size_10pct_5)\n",
    "# np.save('FOLDER_LOCATION/Infinite networks/Convergence/Sample/virtual_neighbourhood_size_25pct_5', virtual_neighbourhood_size_25pct_5)    \n",
    "# np.save('FOLDER_LOCATION/Infinite networks/Convergence/Sample/virtual_neighbourhood_size_75pct_5', virtual_neighbourhood_size_75pct_5)    \n",
    "# np.save('FOLDER_LOCATION/Infinite networks/Convergence/Sample/virtual_neighbourhood_size_90pct_5', virtual_neighbourhood_size_90pct_5)"
   ]
  },
  {
   "cell_type": "markdown",
   "metadata": {},
   "source": [
    "### Node convergence"
   ]
  },
  {
   "cell_type": "code",
   "execution_count": null,
   "metadata": {},
   "outputs": [],
   "source": [
    "prob_succ_gen = 1\n",
    "prob_succ_swap = 1\n",
    "prob_swap = 0.2\n",
    "time_cutoff = 7\n",
    "qubits_per_node = 2*time_cutoff # Represents an infinite memory\n",
    "\n",
    "time = 1000000\n",
    "max_swap_dist = 4\n",
    "number_of_nodes = 2*(max_swap_dist + 1) + 1\n",
    "\n",
    "test = False"
   ]
  },
  {
   "cell_type": "code",
   "execution_count": null,
   "metadata": {},
   "outputs": [],
   "source": [
    "from timeit import default_timer as timer\n",
    "\n",
    "start = timer()\n",
    "virtual_link_adj_array, virtual_node_degree, virtual_neighbourhood_size, swap_count, swap_fail_count = skeleton.simulation_infinite_chain(prob_succ_gen, prob_succ_swap, prob_swap, time_cutoff, qubits_per_node, time, max_swap_dist, number_of_nodes, test)\n",
    "end = timer()\n",
    "print(end - start) # Time in seconds\n",
    "# np.save('FOLDER_LOCATION/Infinite networks/Convergence/Node/virtual_node_degree', virtual_node_degree)\n",
    "# np.save('FOLDER_LOCATION/Infinite networks/Convergence/Node/virtual_neighbourhood_size', virtual_neighbourhood_size)"
   ]
  },
  {
   "cell_type": "markdown",
   "metadata": {},
   "source": [
    "### sweep_prob_swap_max_link_dist"
   ]
  },
  {
   "cell_type": "code",
   "execution_count": 1,
   "metadata": {},
   "outputs": [
    {
     "name": "stdout",
     "output_type": "stream",
     "text": [
      "29467.7319773\n"
     ]
    }
   ],
   "source": [
    "import numpy as np\n",
    "import multiprocessing\n",
    "import sweep_prob_swap_max_link_dist\n",
    "from itertools import product\n",
    "from timeit import default_timer as timer\n",
    "\n",
    "start = timer()\n",
    "\n",
    "if __name__ == '__main__':\n",
    "    # Define the parameters to test\n",
    "    prob_swap_sweep_size = 100+1\n",
    "    prob_swap_range = np.arange(0, prob_swap_sweep_size)/(prob_swap_sweep_size-1)\n",
    "#     max_link_dist_range = [0, 1, 2, 4, 7]\n",
    "    max_link_dist_range = [2, 3, 4]\n",
    "\n",
    "\n",
    "    # Take the cartesian product as the parameters because pool.map() takes only one iterable\n",
    "    params = product(max_link_dist_range, prob_swap_range)\n",
    "    pool = multiprocessing.Pool()\n",
    "    results = pool.map(sweep_prob_swap_max_link_dist.run_simulation, params)\n",
    "\n",
    "    \n",
    "end = timer()\n",
    "print(end - start) # Time in seconds\n",
    "\n",
    "# np.save('FOLDER_LOCATION/Infinite networks/Infinite chain/sweep_prob_swap_max_link_dist/results_M2M3M4', results)"
   ]
  },
  {
   "cell_type": "code",
   "execution_count": 1,
   "metadata": {},
   "outputs": [
    {
     "name": "stdout",
     "output_type": "stream",
     "text": [
      "24048.8955634\n"
     ]
    }
   ],
   "source": [
    "import numpy as np\n",
    "import multiprocessing\n",
    "import sweep_prob_swap_max_link_dist\n",
    "from itertools import product\n",
    "from timeit import default_timer as timer\n",
    "\n",
    "start = timer()\n",
    "\n",
    "if __name__ == '__main__':\n",
    "    # Define the parameters to test\n",
    "    prob_swap_sweep_size = 100+1\n",
    "    prob_swap_range = np.arange(0, prob_swap_sweep_size)/(prob_swap_sweep_size-1)\n",
    "    max_link_dist_range = [0, 1, 2, 4, 7]\n",
    "\n",
    "    # Take the cartesian product as the parameters because pool.map() takes only one iterable\n",
    "    params = product(max_link_dist_range, prob_swap_range)\n",
    "    pool = multiprocessing.Pool()\n",
    "    results = pool.map(sweep_prob_swap_max_link_dist.run_simulation, params)\n",
    "\n",
    "    \n",
    "end = timer()\n",
    "print(end - start) # Time in seconds\n",
    "\n",
    "# np.save('FOLDER_LOCATION/Infinite networks/Infinite chain/sweep_prob_swap_max_link_dist/results', results)"
   ]
  },
  {
   "cell_type": "markdown",
   "metadata": {},
   "source": [
    "### sweep_prob_swap_prob_succ_gen"
   ]
  },
  {
   "cell_type": "code",
   "execution_count": 1,
   "metadata": {},
   "outputs": [
    {
     "name": "stdout",
     "output_type": "stream",
     "text": [
      "16970.9596964\n"
     ]
    }
   ],
   "source": [
    "import numpy as np\n",
    "import multiprocessing\n",
    "import sweep_prob_swap_prob_succ_gen\n",
    "from itertools import product\n",
    "from timeit import default_timer as timer\n",
    "\n",
    "start = timer()\n",
    "\n",
    "if __name__ == '__main__':\n",
    "    # Define the parameters to test\n",
    "    prob_swap_sweep_size = 100+1\n",
    "    prob_swap_range = np.arange(0, prob_swap_sweep_size)/((prob_swap_sweep_size-1))\n",
    "    prob_succ_gen_range = [0.25]\n",
    "\n",
    "    # Take the cartesian product as the parameters because pool.map() takes only one iterable\n",
    "    params = product(prob_succ_gen_range, prob_swap_range)\n",
    "    pool = multiprocessing.Pool()\n",
    "    results = pool.map(sweep_prob_swap_prob_succ_gen.run_simulation, params)\n",
    "\n",
    "    \n",
    "end = timer()\n",
    "print(end - start) # Time in seconds\n",
    "\n",
    "# np.save('FOLDER_LOCATION/Infinite networks/Infinite chain/sweep_prob_swap_prob_succ_gen/results_full_range_q_p25', results)"
   ]
  },
  {
   "cell_type": "markdown",
   "metadata": {},
   "source": [
    "### sweep_prob_swap_prob_succ_swap"
   ]
  },
  {
   "cell_type": "code",
   "execution_count": 19,
   "metadata": {},
   "outputs": [
    {
     "name": "stdout",
     "output_type": "stream",
     "text": [
      "18619.116177800002\n"
     ]
    }
   ],
   "source": [
    "import numpy as np\n",
    "import multiprocessing\n",
    "import sweep_prob_swap_prob_succ_swap\n",
    "from itertools import product\n",
    "from timeit import default_timer as timer\n",
    "\n",
    "start = timer()\n",
    "\n",
    "if __name__ == '__main__':\n",
    "    # Define the parameters to test\n",
    "    prob_swap_sweep_size = 100+1\n",
    "    prob_swap_range = np.arange(0, prob_swap_sweep_size)/(prob_swap_sweep_size-1)\n",
    "    prob_succ_swap_range = [0.5, 0.75, 1]\n",
    "\n",
    "    # Take the cartesian product as the parameters because pool.map() takes only one iterable\n",
    "    params = product(prob_succ_swap_range, prob_swap_range)\n",
    "    pool = multiprocessing.Pool()\n",
    "    results = pool.map(sweep_prob_swap_prob_succ_swap.run_simulation, params)\n",
    "\n",
    "    \n",
    "end = timer()\n",
    "print(end - start) # Time in seconds\n",
    "\n",
    "# np.save('FOLDER_LOCATION/Infinite networks/Infinite chain/sweep_prob_swap_prob_succ_swap/results_2', results)    "
   ]
  },
  {
   "cell_type": "markdown",
   "metadata": {},
   "source": [
    "### sweep_prob_swap_time_cutoff"
   ]
  },
  {
   "cell_type": "code",
   "execution_count": 1,
   "metadata": {},
   "outputs": [
    {
     "name": "stdout",
     "output_type": "stream",
     "text": [
      "63916.1179995\n"
     ]
    }
   ],
   "source": [
    "import numpy as np\n",
    "import multiprocessing\n",
    "import sweep_prob_swap_time_cutoff\n",
    "from itertools import product\n",
    "from timeit import default_timer as timer\n",
    "\n",
    "start = timer()\n",
    "\n",
    "if __name__ == '__main__':\n",
    "    # Define the parameters to test\n",
    "    prob_swap_sweep_size = 100+1\n",
    "    prob_swap_range = np.arange(0, prob_swap_sweep_size)/(prob_swap_sweep_size-1)\n",
    "    time_cutoff_range = [1, 3, 7, 13, 21]\n",
    "\n",
    "    # Take the cartesian product as the parameters because pool.map() takes only one iterable\n",
    "    params = product(time_cutoff_range, prob_swap_range)\n",
    "    pool = multiprocessing.Pool()\n",
    "    results = pool.map(sweep_prob_swap_time_cutoff.run_simulation, params)\n",
    "\n",
    "    \n",
    "end = timer()\n",
    "print(end - start) # Time in seconds\n",
    "\n",
    "# np.save('FOLDER_LOCATION/Infinite networks/Infinite chain/sweep_prob_swap_time_cutoff/results', results)"
   ]
  },
  {
   "cell_type": "code",
   "execution_count": 1,
   "metadata": {},
   "outputs": [
    {
     "name": "stdout",
     "output_type": "stream",
     "text": [
      "43857.2923612\n"
     ]
    }
   ],
   "source": [
    "import numpy as np\n",
    "import multiprocessing\n",
    "import sweep_prob_swap_time_cutoff\n",
    "from itertools import product\n",
    "from timeit import default_timer as timer\n",
    "\n",
    "start = timer()\n",
    "\n",
    "if __name__ == '__main__':\n",
    "    # Define the parameters to test\n",
    "    prob_swap_sweep_size = 100+1\n",
    "    prob_swap_range = np.arange(0, prob_swap_sweep_size)/(prob_swap_sweep_size-1)\n",
    "    time_cutoff_range = [1, 2, 3, 4, 5, 6, 7, 8, 9, 10, 11, 12, 13, 14, 15]\n",
    "\n",
    "    # Take the cartesian product as the parameters because pool.map() takes only one iterable\n",
    "    params = product(time_cutoff_range, prob_swap_range)\n",
    "    pool = multiprocessing.Pool()\n",
    "    results = pool.map(sweep_prob_swap_time_cutoff.run_simulation, params)\n",
    "\n",
    "    \n",
    "end = timer()\n",
    "print(end - start) # Time in seconds\n",
    "# np.save('FOLDER_LOCATION/Infinite networks/Infinite chain/sweep_prob_swap_time_cutoff/Extended run probswap/results_test', results)"
   ]
  }
 ],
 "metadata": {
  "kernelspec": {
   "display_name": "Python 3",
   "language": "python",
   "name": "python3"
  },
  "language_info": {
   "codemirror_mode": {
    "name": "ipython",
    "version": 3
   },
   "file_extension": ".py",
   "mimetype": "text/x-python",
   "name": "python",
   "nbconvert_exporter": "python",
   "pygments_lexer": "ipython3",
   "version": "3.8.5"
  }
 },
 "nbformat": 4,
 "nbformat_minor": 4
}
